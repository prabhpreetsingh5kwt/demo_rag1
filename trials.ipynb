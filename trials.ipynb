{
 "cells": [
  {
   "cell_type": "code",
   "execution_count": 10,
   "metadata": {},
   "outputs": [],
   "source": [
    "from llama_parse import LlamaParse\n",
    "from langchain_text_splitters import RecursiveCharacterTextSplitter\n",
    "from llama_index.core import SimpleDirectoryReader\n",
    "from langchain_community.document_loaders import TextLoader\n",
    "from langchain_community.vectorstores import FAISS\n",
    "from langchain_community.embeddings import OpenAIEmbeddings"
   ]
  },
  {
   "cell_type": "code",
   "execution_count": 4,
   "metadata": {},
   "outputs": [],
   "source": [
    "from config import openai_key\n",
    "import os\n",
    "OPENAI_API_KEY=openai_key\n",
    "os.environ[\"OPENAI_API_KEY\"] = OPENAI_API_KEY"
   ]
  },
  {
   "cell_type": "code",
   "execution_count": 6,
   "metadata": {},
   "outputs": [
    {
     "name": "stdout",
     "output_type": "stream",
     "text": [
      "Started parsing the file under job_id 9bda160d-5c50-44c8-8626-81407acb3203\n"
     ]
    }
   ],
   "source": [
    "import nest_asyncio\n",
    "\n",
    "nest_asyncio.apply()\n",
    "documents=LlamaParse(result_type=\"markdown\",verbose=True,show_progress=True).load_data(r\"C:\\Users\\prabh\\OneDrive\\Desktop\\menuverse\\demo_rag1\\New folder\\Versa_KnowledgeBase.docx\")"
   ]
  },
  {
   "cell_type": "code",
   "execution_count": null,
   "metadata": {},
   "outputs": [],
   "source": [
    "with open"
   ]
  },
  {
   "cell_type": "code",
   "execution_count": 11,
   "metadata": {},
   "outputs": [],
   "source": [
    "embedding=OpenAIEmbeddings()"
   ]
  },
  {
   "cell_type": "code",
   "execution_count": 17,
   "metadata": {},
   "outputs": [],
   "source": [
    "vectorstore = FAISS.load_local(r\"C:\\Users\\prabh\\OneDrive\\Desktop\\menuverse\\demo_rag1\\faiss_index\", embedding,allow_dangerous_deserialization=True)"
   ]
  },
  {
   "cell_type": "code",
   "execution_count": 18,
   "metadata": {},
   "outputs": [],
   "source": [
    "retriever=vectorstore.as_retriever()"
   ]
  },
  {
   "cell_type": "code",
   "execution_count": 19,
   "metadata": {},
   "outputs": [
    {
     "name": "stderr",
     "output_type": "stream",
     "text": [
      "c:\\Users\\prabh\\OneDrive\\Desktop\\menuverse\\demo_rag1\\venv\\lib\\site-packages\\tiktoken\\core.py:50: RuntimeWarning: coroutine 'LlamaParse.aload_data' was never awaited\n",
      "  self._core_bpe = _tiktoken.CoreBPE(mergeable_ranks, special_tokens, pat_str)\n",
      "RuntimeWarning: Enable tracemalloc to get the object allocation traceback\n"
     ]
    },
    {
     "data": {
      "text/plain": [
       "[Document(page_content='of your vehicle is influenced by several variable factors (e.g. supply, demand, mileage). This\\nmeans that market value often may be lower than your outstanding balance - particularly early\\nin your contract when you have the most to lose. Guaranteed Asset Protection (GAP) can help\\nwaive the difference from the current market value of your vehicle. BETWEEN WHAT YOU\\nOWE ON YOUR VEHICLE AND WHAT YOUR INSURANCE COMPANY WILL PAY* $40,000\\n$20,000 $10,000 VEHICLE VALUE $4,000 GAP LOAN/LEASE PAYOFF CASH/MARKET\\nVALUE 0 6 12 24 36 48 60 72 LOAN/LEASE TERM (IN MONTHS) THE CHOICE IS YOURS...\\nGAP is an optional form of protection available only at the time you sign your Retail Finance or', metadata={'source': 'C:\\\\Users\\\\prabh\\\\OneDrive\\\\Desktop\\\\menuverse\\\\demo_rag1\\\\data\\\\versa.pdf', 'page': 12}),\n",
       " Document(page_content='issues and uncertainty about the future have all increased the complexity of basic repairs. As a\\nresult, repair and labor costs are likely to continue increasing. The cost of just one significant\\nrepair could exceed the cost of purchasing a contract today. Guaranteed Asset Protection (GAP)', metadata={'source': 'C:\\\\Users\\\\prabh\\\\OneDrive\\\\Desktop\\\\menuverse\\\\demo_rag1\\\\data\\\\versa.pdf', 'page': 16}),\n",
       " Document(page_content='Whenyour vehicle is declared a total loss after an accident or theft, the actual cash value as\\ndetermined by your auto insurance company may be significantly less than the outstanding\\nbalance on your loan. Weadminister multiple GAP waiver programs that can help cover the\\ndifference between the actual cash value of your vehicle and what you still owe. Whatis a\\nGAPwaiver? AGAPwaiver is designed to reduce or even eliminate amounts remaining on your\\nloan after your vehicle is stolen or is declared a total loss. Whenavehicle is declared a total loss,\\ndue to theft or accident, the primary automobile insurance will typically pay the actual cash\\nvalue of the vehicle at the time of loss. This amount can be less than the outstanding balance\\non the loan. The difference between the amount paid by the insurer and the remaining balance\\non the loan is often referred to as the \"gap.\" The owner of the vehicle remains responsible for', metadata={'source': 'C:\\\\Users\\\\prabh\\\\OneDrive\\\\Desktop\\\\menuverse\\\\demo_rag1\\\\data\\\\versa.pdf', 'page': 17}),\n",
       " Document(page_content='on the loan. The difference between the amount paid by the insurer and the remaining balance\\non the loan is often referred to as the \"gap.\" The owner of the vehicle remains responsible for\\npaying these amounts to the lender. GAPwaivers can help limit this financial obligation by\\nwaiving some or all of what is owed, excluding certain items such as past-due payment amounts\\nand late fees. GAP waivers even include coverage for some insurance deductibles up to $1,000.\\nGAPwaivers are offered as an addendum to your auto loan so must be purchased during the\\nfinancing transaction Coverage Overview Available for new and used vehicles Can befinanced\\non loans up to 84months Can befinanced on loans up to 150 percent of the MSRP (newvehicles)\\nor NADA retail value (used vehicles)* Available for vehicles with a retail sales value up to\\n$100,000* *Does not apply to all GAP products. Please see the actual waiver for terms,', metadata={'source': 'C:\\\\Users\\\\prabh\\\\OneDrive\\\\Desktop\\\\menuverse\\\\demo_rag1\\\\data\\\\versa.pdf', 'page': 17})]"
      ]
     },
     "execution_count": 19,
     "metadata": {},
     "output_type": "execute_result"
    }
   ],
   "source": [
    "vectorstore.similarity_search('what is gap?')"
   ]
  },
  {
   "cell_type": "code",
   "execution_count": 46,
   "metadata": {},
   "outputs": [],
   "source": [
    "from langchain_openai import ChatOpenAI\n",
    "from langchain_core.messages import HumanMessage\n",
    "OPENAI_API_KEY=openai_key\n",
    "os.environ[\"OPENAI_API_KEY\"] = OPENAI_API_KEY\n",
    "\n",
    "\n",
    "llm=ChatOpenAI()\n",
    "retriever=retriever\n",
    "contextualize_q_system_prompt = (\n",
    "    \"Given a chat history and the latest user question \"\n",
    "    \"which might reference context in the chat history, \"\n",
    "    \"formulate a standalone question which can be understood \"\n",
    "    \"without the chat history. Do NOT answer the question, just \"\n",
    "    \"reformulate it if needed and otherwise return it as is.\"\n",
    ")"
   ]
  },
  {
   "cell_type": "code",
   "execution_count": 47,
   "metadata": {},
   "outputs": [],
   "source": [
    "from langchain.chains import ( create_history_aware_retriever,create_retrieval_chain)\n",
    "from langchain.chains.combine_documents import create_stuff_documents_chain\n",
    "from langchain_core.prompts import ChatPromptTemplate, MessagesPlaceholder\n",
    "from langchain_openai import ChatOpenAI\n",
    "from langchain_core.messages import HumanMessage\n",
    "from langchain_community.chat_message_histories import ChatMessageHistory\n",
    "from langchain_core.chat_history import BaseChatMessageHistory\n",
    "from langchain.chains import RetrievalQA\n",
    "from langchain_core.runnables.history import RunnableWithMessageHistory"
   ]
  },
  {
   "cell_type": "code",
   "execution_count": 48,
   "metadata": {},
   "outputs": [],
   "source": [
    "contextualize_q_prompt = ChatPromptTemplate.from_messages(\n",
    "    [\n",
    "        (\"system\", contextualize_q_system_prompt),\n",
    "        MessagesPlaceholder(\"chat_history\"),\n",
    "        (\"human\", \"{input}\"),\n",
    "    ]\n",
    ")"
   ]
  },
  {
   "cell_type": "code",
   "execution_count": 49,
   "metadata": {},
   "outputs": [],
   "source": [
    "history_aware_retriever = create_history_aware_retriever(\n",
    "    llm, retriever, contextualize_q_prompt\n",
    ")"
   ]
  },
  {
   "cell_type": "code",
   "execution_count": 25,
   "metadata": {},
   "outputs": [],
   "source": [
    "qa_system_prompt = (\n",
    "    \"You are an assistant for question-answering tasks. Use \"\n",
    "    \"the following pieces of retrieved context to answer the \"\n",
    "    \"question. If you don't know the answer, just say that you \"\n",
    "    \"don't know.\"\n",
    "    \"{context}\")"
   ]
  },
  {
   "cell_type": "code",
   "execution_count": 26,
   "metadata": {},
   "outputs": [],
   "source": [
    "qa_prompt = ChatPromptTemplate.from_messages([\n",
    "(\"system\", qa_system_prompt), MessagesPlaceholder(\"chat_history\"), (\"human\", '{input}'),\n",
    "\n",
    "]\n",
    "\n",
    ")"
   ]
  },
  {
   "cell_type": "code",
   "execution_count": 27,
   "metadata": {},
   "outputs": [],
   "source": [
    "question_answer_chain = create_stuff_documents_chain(llm, qa_prompt) \n",
    "rag_chain = create_retrieval_chain(history_aware_retriever, question_answer_chain)\n"
   ]
  },
  {
   "cell_type": "code",
   "execution_count": 30,
   "metadata": {},
   "outputs": [],
   "source": [
    "store = {}   \n",
    "# query='why do i need gap?'\n",
    "def get_session_history(session_id: str) -> BaseChatMessageHistory:\n",
    "    if session_id not in store:\n",
    "        store[session_id] = ChatMessageHistory()\n",
    "    return store[session_id]"
   ]
  },
  {
   "cell_type": "code",
   "execution_count": 31,
   "metadata": {},
   "outputs": [],
   "source": [
    "conversational_rag_chain = RunnableWithMessageHistory(\n",
    "    rag_chain,\n",
    "    get_session_history,\n",
    "    input_messages_key=\"input\",\n",
    "    history_messages_key=\"chat_history\",\n",
    "    output_messages_key=\"answer\",\n",
    "    \n",
    ")"
   ]
  },
  {
   "cell_type": "code",
   "execution_count": 32,
   "metadata": {},
   "outputs": [
    {
     "name": "stderr",
     "output_type": "stream",
     "text": [
      "Parent run 6923edac-846c-4054-9f2e-f00106e4688d not found for run 7b232bcf-212e-4d05-bc9a-9431d1c458bb. Treating as a root run.\n"
     ]
    },
    {
     "data": {
      "text/plain": [
       "'GAP stands for Guaranteed Asset Protection. It is an optional form of protection that can help cover the difference between the actual cash value of your vehicle determined by your insurance company and what you still owe on your loan if your vehicle is declared a total loss due to theft or an accident. GAP waivers are designed to reduce or eliminate amounts remaining on your loan after such incidents occur.'"
      ]
     },
     "execution_count": 32,
     "metadata": {},
     "output_type": "execute_result"
    }
   ],
   "source": [
    "conversational_rag_chain.invoke(\n",
    "    {\"input\": \"What is gap?\"},\n",
    "    config={\n",
    "        \"configurable\": {\"session_id\": \"abc123\"}\n",
    "    },  # constructs a key \"abc123\" in `store`.\n",
    ")[\"answer\"]"
   ]
  },
  {
   "cell_type": "code",
   "execution_count": 61,
   "metadata": {},
   "outputs": [
    {
     "name": "stderr",
     "output_type": "stream",
     "text": [
      "Parent run efad3e19-227c-4da5-bd26-66615bd06118 not found for run cc969458-0733-4c9b-9306-ea795296f717. Treating as a root run.\n"
     ]
    },
    {
     "data": {
      "text/plain": [
       "\"If your vehicle's windshield gets damaged, such as by a branch of a tree causing cracks or chips, and you have windshield protection coverage, you may be able to get the repairs done or the windshield replaced depending on the extent of the damage. Windshield protection typically covers the costs associated with repairing or replacing the windshield to ensure your safety while driving. It is important to review the specific terms and coverage details of your windshield protection plan to understand what is included and any limitations that may apply.\""
      ]
     },
     "execution_count": 61,
     "metadata": {},
     "output_type": "execute_result"
    }
   ],
   "source": [
    "conversational_rag_chain.invoke(\n",
    "    {\"input\": \"if it gets damaged or has cracks by a branch of tree, what will i get?\"},\n",
    "    config={\n",
    "        \"configurable\": {\"session_id\": \"abc123\"}\n",
    "    },  # constructs a key \"abc123\" in `store`.\n",
    ")[\"answer\"]"
   ]
  },
  {
   "cell_type": "code",
   "execution_count": 53,
   "metadata": {},
   "outputs": [],
   "source": [
    "output=history_aware_retriever.invoke({\"input\": \"what is windshield protection?\",\"chat_history\":store[\"abc123\"].messages})"
   ]
  },
  {
   "cell_type": "code",
   "execution_count": 56,
   "metadata": {},
   "outputs": [
    {
     "name": "stdout",
     "output_type": "stream",
     "text": [
      "[Document(page_content='stolen, we can decrease the chances with our theft deterrent program. A traceable, unique\\nidentifier is applied to your vehicle to make it less attractive to thieves Windshield Protection*\\nAdamagedwindshield can certainly affect the safe operation of your vehicle. Even if the damage\\ndoesn’t impede your ability to see the road, the windshield crack or chip can get worse over time\\nand increase the cost of repair or replacement. Our windshield repair or replacement products\\nare designed to reduce your out-of-pocket expense and get you back on the road quickly. *\\nNotavailable in all states; see the specific contract for coverage details, restrictions and\\nexclusions.', metadata={'source': 'C:\\\\Users\\\\prabh\\\\OneDrive\\\\Desktop\\\\menuverse\\\\demo_rag1\\\\data\\\\versa.pdf', 'page': 18}), Document(page_content='your vehicle to keep it looking new. Treated exterior surfaces will be resistant to damage from\\nenvironmental contaminants, including tree sap, insects and hard-water spots. Our interior\\nprotection guards fabrics against stains from food, drinks, pets, gum, make up, crayons, lotions,\\netc., and protects leather and vinyl from fading, discoloring and cracking. Rust Inhibitor and\\nUndercoating Protection* Whenthis protection product is applied to your vehicle’s sheet-metal\\nsurfaces and underbody, it acts as a barrier to prevent rust damage and cracking, chipping and\\npeeling of metal surfaces. Theft Deterrent* Imagine looking for your vehicle in a crowded\\nparking lot and realizing it’s gone! While we can’t guarantee that your vehicle will never be\\nstolen, we can decrease the chances with our theft deterrent program. A traceable, unique\\nidentifier is applied to your vehicle to make it less attractive to thieves Windshield Protection*', metadata={'source': 'C:\\\\Users\\\\prabh\\\\OneDrive\\\\Desktop\\\\menuverse\\\\demo_rag1\\\\data\\\\versa.pdf', 'page': 18}), Document(page_content='valuable protection is not just for maintaining your vehicle’s appearance and safety, it also\\nincludes reimbursement for towing, flat-tire change assistance and alternate transportation.\\nPaintless Dent Repair (PDR)* Dents and dings can certainly ruin the appearance of any vehicle.\\nCNA National offers coverages to get your vehicle looking good again! The PDR process uses\\nspecialized hand tools to return painted, dented sheet metal back to its original form. This\\nprocess does not harm the vehicle’s original factory finish and no repainting is required. Interior\\nand Exterior Protection* It’s happened to all of us. . .we parked under a tree with sap, or we\\nspilled a beverage in our vehicle! Weoffer protection products for both the exterior and interior of\\nyour vehicle to keep it looking new. Treated exterior surfaces will be resistant to damage from\\nenvironmental contaminants, including tree sap, insects and hard-water spots. Our interior', metadata={'source': 'C:\\\\Users\\\\prabh\\\\OneDrive\\\\Desktop\\\\menuverse\\\\demo_rag1\\\\data\\\\versa.pdf', 'page': 18}), Document(page_content='DRUMS AND ROTORS, SOLAR POWERED DEVICES, GLASS, LENSES, BODY PARTS\\nAND/OR PANELS, TRIM, MOLDINGS, TIRES, WHEELS, UPHOLSTERY, PAINT, BRIGHT\\nMETAL, AUDIO/SECURITY OR OTHER SYSTEMS NOT FACTORY INSTALLED, WHEEL\\nBALANCING, CELLULAR PHONES, RADAR DETECTORS, APPLIANCES, VINYL AND\\nCONVERTIBLE TOPS* BATTERY COVERAGE Covers one (1) battery replacement during the\\nterm of the Service Contract, or the difference between the manufacturer’s pro rated\\nreimbursement and the total cost of the battery. HEADLAMP COVERAGE Covers the unlimited\\nreplacement of the headlamps during the term of the Service Contract (IMPACT DAMAGE NOT', metadata={'source': 'C:\\\\Users\\\\prabh\\\\OneDrive\\\\Desktop\\\\menuverse\\\\demo_rag1\\\\data\\\\versa.pdf', 'page': 7})]\n"
     ]
    }
   ],
   "source": [
    "print(output)"
   ]
  },
  {
   "cell_type": "code",
   "execution_count": 62,
   "metadata": {},
   "outputs": [
    {
     "data": {
      "text/plain": [
       "[HumanMessage(content='What is gap?'),\n",
       " AIMessage(content='GAP stands for Guaranteed Asset Protection. It is an optional form of protection that can help cover the difference between the actual cash value of your vehicle determined by your insurance company and what you still owe on your loan if your vehicle is declared a total loss due to theft or an accident. GAP waivers are designed to reduce or eliminate amounts remaining on your loan after such incidents occur.'),\n",
       " HumanMessage(content='do i even need it?'),\n",
       " AIMessage(content=\"Whether you need GAP coverage depends on your individual situation and preferences. If you have a loan or lease on a vehicle and the outstanding balance is higher than the actual cash value that your insurance company would pay in case of a total loss, then GAP coverage can be beneficial. It can help protect you from having to pay out of pocket for the remaining balance on your loan. It's advisable to carefully consider your financial circumstances and the terms of your loan or lease agreement to determine if GAP coverage is a good option for you.\"),\n",
       " HumanMessage(content='what is windshield protection?'),\n",
       " AIMessage(content=\"Windshield protection is a service or product that helps repair or replace your vehicle's windshield in case it gets damaged. It can cover the costs associated with repairing chips or cracks in the windshield to ensure your safety while driving. Windshield protection may also include products or treatments that help prevent damage to the windshield from environmental contaminants, such as tree sap, insects, or hard-water spots. Additionally, some windshield protection plans may offer reimbursement for towing, flat-tire change assistance, and alternate transportation in case your windshield needs repair or replacement.\"),\n",
       " HumanMessage(content='what if i have loan of 30000 dollars and value or my car is 15000 dollars? '),\n",
       " AIMessage(content='In a situation where you have a loan of $30,000 on your vehicle, but the actual cash value of your car is only $15,000, there would be a significant gap of $15,000. If your vehicle were to be declared a total loss due to theft or an accident, your insurance company would likely pay out the actual cash value of $15,000. In this case, you would be responsible for the remaining $15,000 to cover the loan balance unless you have GAP coverage to help bridge that gap. Without GAP coverage, you would need to pay the difference out of pocket.'),\n",
       " HumanMessage(content='if it gets damaged or has cracks by a branch of tree, what will i get?'),\n",
       " AIMessage(content=\"If your vehicle's windshield gets damaged, such as by a branch of a tree causing cracks or chips, and you have windshield protection coverage, you may be able to get the repairs done or the windshield replaced depending on the extent of the damage. Windshield protection typically covers the costs associated with repairing or replacing the windshield to ensure your safety while driving. It is important to review the specific terms and coverage details of your windshield protection plan to understand what is included and any limitations that may apply.\")]"
      ]
     },
     "execution_count": 62,
     "metadata": {},
     "output_type": "execute_result"
    }
   ],
   "source": [
    "store[\"abc123\"].messages"
   ]
  },
  {
   "cell_type": "code",
   "execution_count": 63,
   "metadata": {},
   "outputs": [
    {
     "name": "stderr",
     "output_type": "stream",
     "text": [
      "Parent run 088d9556-f45d-47be-a392-529cf75041f9 not found for run 02001d31-3571-4c56-b430-253df2cccd53. Treating as a root run.\n"
     ]
    }
   ],
   "source": [
    "output1=conversational_rag_chain.invoke(\n",
    "    {\"input\": \"if it gets damaged or has cracks by a branch of tree, what will i get?\"},\n",
    "    config={\n",
    "        \"configurable\": {\"session_id\": \"abc123\"}\n",
    "    },  # constructs a key \"abc123\" in `store`.\n",
    ")[\"answer\"]"
   ]
  },
  {
   "cell_type": "code",
   "execution_count": 64,
   "metadata": {},
   "outputs": [
    {
     "name": "stdout",
     "output_type": "stream",
     "text": [
      "If your vehicle's windshield gets damaged by a branch of a tree causing cracks or chips, and you have windshield protection coverage, you may be able to get the repairs done or the windshield replaced depending on the extent of the damage. Windshield protection typically covers the costs associated with repairing or replacing the windshield to ensure your safety while driving. It is important to review the specific terms and coverage details of your windshield protection plan to understand what is included and any limitations that may apply.\n"
     ]
    }
   ],
   "source": [
    "print(output1)"
   ]
  },
  {
   "cell_type": "code",
   "execution_count": null,
   "metadata": {},
   "outputs": [],
   "source": []
  }
 ],
 "metadata": {
  "kernelspec": {
   "display_name": "Python 3",
   "language": "python",
   "name": "python3"
  },
  "language_info": {
   "codemirror_mode": {
    "name": "ipython",
    "version": 3
   },
   "file_extension": ".py",
   "mimetype": "text/x-python",
   "name": "python",
   "nbconvert_exporter": "python",
   "pygments_lexer": "ipython3",
   "version": "3.10.0"
  }
 },
 "nbformat": 4,
 "nbformat_minor": 2
}
